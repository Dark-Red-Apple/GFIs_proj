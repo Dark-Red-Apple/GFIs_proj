{
 "cells": [
  {
   "cell_type": "code",
   "execution_count": 47,
   "metadata": {},
   "outputs": [],
   "source": [
    "#get the repositories\n",
    "import requests\n",
    "import json\n",
    "\n",
    "pages = [1,2,3,4,5,6]\n",
    "for page in pages:\n",
    "    username = 'xx'\n",
    "\n",
    "    token = 'xx'\n",
    "    repos_url = \"https://api.github.com/search/repositories?q=language:java&sort=stars&order=desc&per_page=100&page=\"+str(page)\n",
    "\n",
    "    gh_session = requests.Session()\n",
    "    gh_session.auth = (username, token)\n",
    "\n",
    "    repos = json.loads(gh_session.get(repos_url).text)\n",
    "\n",
    "    # Serializing json \n",
    "    json_object = json.dumps(repos, indent = 4)\n",
    "\n",
    "    # Writing to sample.json\n",
    "    with open(\"java_top_rep.json\", \"a\") as outfile:\n",
    "        outfile.write(json_object)\n"
   ]
  },
  {
   "cell_type": "code",
   "execution_count": 54,
   "metadata": {},
   "outputs": [],
   "source": [
    "import pandas as pd\n",
    "df_gfi = pd.read_json('java_top_rep.json')\n",
    "df_gfi.to_csv('java_top_rep.csv')\n"
   ]
  },
  {
   "cell_type": "code",
   "execution_count": 55,
   "metadata": {},
   "outputs": [
    {
     "name": "stdout",
     "output_type": "stream",
     "text": [
      "(557, 1)\n",
      "(557, 80)\n",
      "(557, 1)\n",
      "(500, 80)\n"
     ]
    }
   ],
   "source": [
    "df_c_csv = pd.read_csv('java_top_rep.csv')\n",
    "print(pd.DataFrame(df_c_csv['url'].unique(), columns=['url']).shape)\n",
    "result_df = df_c_csv.drop_duplicates(subset=['url'], keep='first')\n",
    "print(result_df.shape)\n",
    "# print(df_c_csv.shape)\n",
    "df_c_csv_unique = pd.DataFrame(result_df['url'].unique(), columns=['url'])\n",
    "print(df_c_csv_unique.shape)\n",
    "print(result_df[0:500].shape)\n",
    "result_df[0:500].to_csv('java_top_rep_1.csv')"
   ]
  },
  {
   "cell_type": "code",
   "execution_count": 57,
   "metadata": {},
   "outputs": [],
   "source": [
    "#C and cpp\n",
    "import pandas as pd\n",
    "df_cpp_csv = pd.read_csv('cpp_top_rep_1.csv')\n",
    "df_c_csv = pd.read_csv('C_top_rep_1.csv')\n",
    "cpp_half = df_cpp_csv[0:250]\n",
    "c_half = df_c_csv[0:250]\n",
    "df3 = cpp_half.append(c_half, ignore_index=True)\n",
    "df3.to_csv('CAndC++_top_rep_1.csv')"
   ]
  },
  {
   "cell_type": "code",
   "execution_count": 59,
   "metadata": {},
   "outputs": [
    {
     "name": "stdout",
     "output_type": "stream",
     "text": [
      "Merging multiple CSV files...\n",
      "0          https://api.github.com/repos/electron/electron\n",
      "1         https://api.github.com/repos/microsoft/terminal\n",
      "2            https://api.github.com/repos/bitcoin/bitcoin\n",
      "3              https://api.github.com/repos/opencv/opencv\n",
      "4            https://api.github.com/repos/pytorch/pytorch\n",
      "                              ...                        \n",
      "2995            https://api.github.com/repos/etrepat/baum\n",
      "2996            https://api.github.com/repos/php-fig/link\n",
      "2997         https://api.github.com/repos/borisrepl/boris\n",
      "2998     https://api.github.com/repos/symfony/twig-bundle\n",
      "2999    https://api.github.com/repos/symfony/phpunit-b...\n",
      "Name: url, Length: 3000, dtype: object\n"
     ]
    }
   ],
   "source": [
    "\n",
    "import pandas as pd\n",
    "\n",
    "file1 = \"CAndC++_top_rep_1.csv\"\n",
    "file2 = \"javascript_top_rep_1.csv\"\n",
    "file3 = \"java_top_rep_1.csv\"\n",
    "file4 = \"python_top_rep_1.csv\"\n",
    "file5 = \"ruby_top_rep_1.csv\"\n",
    "file6 = \"php_top_rep_1.csv\"\n",
    "\n",
    "print(\"Merging multiple CSV files...\")\n",
    "\n",
    "# merge\n",
    "dataFrame = pd.concat(\n",
    "   map(pd.read_csv, [file1, file2,file3,file4,file5,file6]), ignore_index=True)\n",
    "print(dataFrame['url'])\n",
    "\n",
    "dataFrame.to_csv('all_rep.csv')"
   ]
  },
  {
   "cell_type": "code",
   "execution_count": null,
   "metadata": {},
   "outputs": [],
   "source": []
  }
 ],
 "metadata": {
  "interpreter": {
   "hash": "8f52e72c7da3d38588779b7e0225782288049d1c57ba0ce139b57ffcecc10718"
  },
  "kernelspec": {
   "display_name": "Python 3.10.1 64-bit",
   "language": "python",
   "name": "python3"
  },
  "language_info": {
   "codemirror_mode": {
    "name": "ipython",
    "version": 3
   },
   "file_extension": ".py",
   "mimetype": "text/x-python",
   "name": "python",
   "nbconvert_exporter": "python",
   "pygments_lexer": "ipython3",
   "version": "3.10.1"
  },
  "orig_nbformat": 4
 },
 "nbformat": 4,
 "nbformat_minor": 2
}
