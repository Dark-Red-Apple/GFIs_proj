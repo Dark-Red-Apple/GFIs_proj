{
 "cells": [
  {
   "cell_type": "code",
   "execution_count": 14,
   "metadata": {},
   "outputs": [
    {
     "name": "stdout",
     "output_type": "stream",
     "text": [
      "(3000, 81)\n",
      "(3000, 82)\n"
     ]
    }
   ],
   "source": [
    "import pandas as pd\n",
    "df_old = pd.read_csv('all_rep.csv')\n",
    "df_new = pd.read_csv('all_rep_1.csv')\n",
    "print(df_old.shape)\n",
    "print(df_new.shape)\n",
    "# df_gfi.to_csv('java_top_rep.csv')"
   ]
  },
  {
   "cell_type": "code",
   "execution_count": 15,
   "metadata": {},
   "outputs": [
    {
     "name": "stdout",
     "output_type": "stream",
     "text": [
      "(2263, 162)\n"
     ]
    }
   ],
   "source": [
    "merged = pd.merge(df_old, df_new, how='inner', left_on=['url'], right_on=['url'])\n",
    "print(merged.shape)\n",
    "# print(merged)"
   ]
  },
  {
   "cell_type": "code",
   "execution_count": null,
   "metadata": {},
   "outputs": [],
   "source": []
  }
 ],
 "metadata": {
  "interpreter": {
   "hash": "8f52e72c7da3d38588779b7e0225782288049d1c57ba0ce139b57ffcecc10718"
  },
  "kernelspec": {
   "display_name": "Python 3.10.1 64-bit",
   "language": "python",
   "name": "python3"
  },
  "language_info": {
   "codemirror_mode": {
    "name": "ipython",
    "version": 3
   },
   "file_extension": ".py",
   "mimetype": "text/x-python",
   "name": "python",
   "nbconvert_exporter": "python",
   "pygments_lexer": "ipython3",
   "version": "3.10.1"
  },
  "orig_nbformat": 4
 },
 "nbformat": 4,
 "nbformat_minor": 2
}
