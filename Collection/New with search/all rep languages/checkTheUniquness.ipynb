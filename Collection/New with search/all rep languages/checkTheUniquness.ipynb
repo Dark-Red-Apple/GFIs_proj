{
 "cells": [
  {
   "cell_type": "code",
   "execution_count": 3,
   "metadata": {},
   "outputs": [
    {
     "name": "stdout",
     "output_type": "stream",
     "text": [
      "(500,)\n",
      "468\n"
     ]
    }
   ],
   "source": [
    "import pandas as pd\n",
    "df_contri_rep = pd.read_csv('python_top_rep.csv',usecols=['url'])\n",
    "print(df_contri_rep['url'].shape)\n",
    "print(df_contri_rep[\"url\"].nunique())"
   ]
  },
  {
   "cell_type": "code",
   "execution_count": 4,
   "metadata": {},
   "outputs": [
    {
     "name": "stdout",
     "output_type": "stream",
     "text": [
      "Merging multiple CSV files...\n",
      "2967\n"
     ]
    }
   ],
   "source": [
    "file1 = \"CAndC++_top_rep.csv\"\n",
    "file2 = \"javascript_top_rep.csv\"\n",
    "file3 = \"java_top_rep.csv\"\n",
    "file4 = \"python_top_rep.csv\"\n",
    "file5 = \"ruby_top_rep.csv\"\n",
    "file6 = \"php_top_rep.csv\"\n",
    "\n",
    "print(\"Merging multiple CSV files...\")\n",
    "\n",
    "# merge\n",
    "dataFrame = pd.concat(\n",
    "   map(pd.read_csv, [file1, file2,file3,file4,file5,file6]), ignore_index=True)\n",
    "# print(dataFrame['url'])\n",
    "print(dataFrame[\"url\"].nunique())\n",
    "# dataFrame.to_csv('all_rep.csv')"
   ]
  },
  {
   "cell_type": "code",
   "execution_count": null,
   "metadata": {},
   "outputs": [],
   "source": []
  }
 ],
 "metadata": {
  "interpreter": {
   "hash": "8f52e72c7da3d38588779b7e0225782288049d1c57ba0ce139b57ffcecc10718"
  },
  "kernelspec": {
   "display_name": "Python 3.10.1 64-bit",
   "language": "python",
   "name": "python3"
  },
  "language_info": {
   "codemirror_mode": {
    "name": "ipython",
    "version": 3
   },
   "file_extension": ".py",
   "mimetype": "text/x-python",
   "name": "python",
   "nbconvert_exporter": "python",
   "pygments_lexer": "ipython3",
   "version": "3.10.1"
  },
  "orig_nbformat": 4
 },
 "nbformat": 4,
 "nbformat_minor": 2
}
