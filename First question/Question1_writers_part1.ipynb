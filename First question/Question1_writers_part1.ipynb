{
 "cells": [
  {
   "cell_type": "code",
   "execution_count": 1,
   "metadata": {},
   "outputs": [
    {
     "name": "stdout",
     "output_type": "stream",
     "text": [
      "(9110, 2)\n"
     ]
    }
   ],
   "source": [
    "#Autor: Alma\n",
    "import pandas as pd\n",
    "from datetime import datetime\n",
    "import time\n",
    "\n",
    "pd.set_option(\"expand_frame_repr\", False)\n",
    "df_gfi = pd.read_csv('gfi.csv',usecols=['created_at','repository_url'])\n",
    "df_other_iss= pd.read_csv('other_issues.csv',usecols=['created_at','repository_url'])\n",
    "df_gfi['created_at'] = pd.to_datetime(df_gfi['created_at'])\n",
    "print(df_gfi.shape)"
   ]
  },
  {
   "cell_type": "code",
   "execution_count": 3,
   "metadata": {},
   "outputs": [
    {
     "name": "stdout",
     "output_type": "stream",
     "text": [
      "            total created_at\n",
      "created_at                  \n",
      "2008.0          1 2008-01-01\n",
      "2009.0          1 2009-01-01\n",
      "2010.0          4 2010-01-01\n",
      "2011.0          6 2011-01-01\n",
      "2012.0         26 2012-01-01\n",
      "2013.0         43 2013-01-01\n",
      "2014.0         61 2014-01-01\n",
      "2015.0         94 2015-01-01\n",
      "2016.0        129 2016-01-01\n",
      "2017.0        156 2017-01-01\n",
      "2018.0         95 2018-01-01\n",
      "2019.0          1 2019-01-01\n",
      "2020.0          1 2020-01-01\n"
     ]
    }
   ],
   "source": [
    "# first_issues_count = df_gfi.groupby([df_gfi['created_at'].dt.year,'repository_url'], as_index=False).count()\n",
    "# first_issues_count = df_gfi.groupby(df_gfi['created_at'].dt.year, as_index=False)[\"repository_url\"].nunique()\n",
    "first_issues_count = df_gfi.groupby(df_gfi['created_at'].dt.year).agg(total = pd.NamedAgg('repository_url',aggfunc=pd.Series.nunique))\n",
    "first_issues_count['created_at']= first_issues_count.index\n",
    "first_issues_count['created_at'] = pd.to_datetime(first_issues_count['created_at'], format='%Y')\n",
    "print(first_issues_count)"
   ]
  },
  {
   "cell_type": "code",
   "execution_count": 8,
   "metadata": {},
   "outputs": [],
   "source": [
    "df_issues_cutted = first_issues_count.head(10)"
   ]
  },
  {
   "cell_type": "code",
   "execution_count": 9,
   "metadata": {},
   "outputs": [
    {
     "data": {
      "image/png": "[encoded data removed]",
      "text/plain": [
       "<Figure size 720x288 with 1 Axes>"
      ]
     },
     "metadata": {
      "needs_background": "light"
     },
     "output_type": "display_data"
    }
   ],
   "source": [
    "import numpy as np\n",
    "import pandas as pd\n",
    "import matplotlib.pyplot as plt\n",
    "from matplotlib.ticker import StrMethodFormatter\n",
    "from matplotlib.ticker import PercentFormatter\n",
    "\n",
    "import matplotlib.dates as mdates\n",
    "import numpy\n",
    "fig, ax = plt.subplots(figsize=(10, 4))\n",
    "# plt.xticks(first_issues_count['created_at']) \n",
    "# plt.yticks(first_issues_count['created_at'])\n",
    "# ax = fig.add_subplot(111)\n",
    "# xs = np.logspace(1,10,10)\n",
    "# ax.set_yscale('log')\n",
    "\n",
    "plt.plot_date(df_issues_cutted['created_at'], df_issues_cutted['total'],linestyle='solid',label='Number of the projects')\n",
    "\n",
    "plt.legend()\n",
    "plt.ylabel(\"number\",fontsize=10)\n",
    "plt.xlabel(\"year\",fontsize=10)\n",
    "plt.show()"
   ]
  },
  {
   "cell_type": "code",
   "execution_count": null,
   "metadata": {},
   "outputs": [],
   "source": []
  }
 ],
 "metadata": {
  "interpreter": {
   "hash": "8f52e72c7da3d38588779b7e0225782288049d1c57ba0ce139b57ffcecc10718"
  },
  "kernelspec": {
   "display_name": "Python 3.10.1 64-bit",
   "language": "python",
   "name": "python3"
  },
  "language_info": {
   "codemirror_mode": {
    "name": "ipython",
    "version": 3
   },
   "file_extension": ".py",
   "mimetype": "text/x-python",
   "name": "python",
   "nbconvert_exporter": "python",
   "pygments_lexer": "ipython3",
   "version": "3.10.1"
  },
  "orig_nbformat": 4
 },
 "nbformat": 4,
 "nbformat_minor": 2
}
