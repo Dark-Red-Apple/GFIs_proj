{
 "cells": [
  {
   "cell_type": "code",
   "execution_count": 28,
   "metadata": {},
   "outputs": [
    {
     "name": "stdout",
     "output_type": "stream",
     "text": [
      "(1114, 1)\n"
     ]
    }
   ],
   "source": [
    "#Autor: Alma\n",
    "import pandas as pd\n",
    "from datetime import datetime\n",
    "import time\n",
    "\n",
    "pd.set_option(\"expand_frame_repr\", False)\n",
    "df_gfi = pd.read_csv('gfi_coll.csv',usecols=['created_at','repository_url'])\n",
    "df_other_iss= pd.read_csv('otheri_coll.csv',usecols=['created_at','repository_url'])\n",
    "df_all_iss= pd.read_csv('all_issues_fin.csv',usecols=['created_at','repository_url'])\n",
    "df_contri_rep= pd.read_csv('contri_rep.csv',usecols=['url'])\n",
    "df_all_rep= pd.read_csv('all_rep.csv',usecols=['stargazers_count','url'])\n",
    "df_gfi['created_at'] = pd.to_datetime(df_gfi['created_at'])\n",
    "df_other_iss['created_at'] = pd.to_datetime(df_other_iss['created_at'])\n",
    "df_all_iss['created_at'] = pd.to_datetime(df_all_iss['created_at'])\n",
    "\n",
    "# print(df_all_iss.sort_values(by=['created_at']).head(20))\n",
    "print(df_contri_rep.shape)"
   ]
  },
  {
   "cell_type": "code",
   "execution_count": 29,
   "metadata": {},
   "outputs": [
    {
     "name": "stdout",
     "output_type": "stream",
     "text": [
      "      stargazers_count                                                url\n",
      "0               163824  https://api.github.com/repos/tensorflow/tensor...\n",
      "1               100990     https://api.github.com/repos/electron/electron\n",
      "2                81937    https://api.github.com/repos/microsoft/terminal\n",
      "3                62792       https://api.github.com/repos/bitcoin/bitcoin\n",
      "4                60495         https://api.github.com/repos/opencv/opencv\n",
      "...                ...                                                ...\n",
      "1139              2262       https://api.github.com/repos/Rudloff/alltube\n",
      "1140              2262      https://api.github.com/repos/php/php-langspec\n",
      "1141              2240       https://api.github.com/repos/beberlei/assert\n",
      "1142              2240  https://api.github.com/repos/lexik/LexikJWTAut...\n",
      "1143              2228       https://api.github.com/repos/drush-ops/drush\n",
      "\n",
      "[1144 rows x 2 columns]\n"
     ]
    }
   ],
   "source": [
    "import numpy as np\n",
    "# first_issues_count = df_gfi.groupby('repository_url').agg(total_first = pd.NamedAgg('repository_url',aggfunc='count'))\n",
    "cont_detail = pd.merge(left=df_contri_rep,right=df_all_rep, how=\"inner\",left_on='url',right_on='url')\n",
    "cont_detail = cont_detail.reindex(sorted(cont_detail.columns), axis=1)\n",
    "print(cont_detail)"
   ]
  },
  {
   "cell_type": "code",
   "execution_count": 50,
   "metadata": {},
   "outputs": [
    {
     "name": "stdout",
     "output_type": "stream",
     "text": [
      "(463, 1)\n"
     ]
    }
   ],
   "source": [
    "df_all_iss_unique = pd.DataFrame(df_gfi['repository_url'].unique(), columns=['url'])\n",
    "print(df_all_iss_unique.shape)\n",
    "ratio=[]\n",
    "\n",
    "for i, g  in cont_detail.groupby(np.arange(len(cont_detail)) // 40):\n",
    "    # print(g)\n",
    "    gfi_rep = pd.merge(left=g,right=df_all_iss_unique, how=\"inner\",left_on='url',right_on='url')    \n",
    "    # print(i,gfi_rep.shape[0]/40 )\n",
    "    if(i==16):\n",
    "        gr = g\n",
    "    ratio.append(gfi_rep.shape[0]/40)\n",
    "\n",
    "# print(cont_detail.groupby(np.arange(len(cont_detail)) // 40).iloc[16])\n",
    "# for index, row in df_all_iss_unique.head(40).iterrows():\n",
    "#     gfi_rep = pd.merge(left=cont_detail,right=df_all_iss_unique, how=\"inner\",left_on='url',right_on='url')    \n",
    "#     ratio.append(gfi_rep.shape[0])\n",
    "\n",
    "# print(ratio)\n",
    "# print(ratio[0:19])\n",
    "gr.to_csv('outlier.txt', index=False)  \n",
    "\n"
   ]
  },
  {
   "cell_type": "code",
   "execution_count": 39,
   "metadata": {},
   "outputs": [
    {
     "name": "stdout",
     "output_type": "stream",
     "text": [
      "29\n"
     ]
    },
    {
     "data": {
      "image/png": "[encoded data removed]",
      "text/plain": [
       "<Figure size 432x288 with 1 Axes>"
      ]
     },
     "metadata": {
      "needs_background": "light"
     },
     "output_type": "display_data"
    }
   ],
   "source": [
    "import matplotlib.pyplot as plt\n",
    "fig = plt.figure()\n",
    "ax = fig.add_axes([0,0,1,1])\n",
    "# langs = ['C', 'C++', 'Java', 'Python', 'PHP']\n",
    "# students = ratio[0:19]\n",
    "print(len(ratio))\n",
    "x= range(0,len(ratio))\n",
    "\n",
    "ax.bar(x,ratio)\n",
    "plt.show()\n",
    "\n"
   ]
  },
  {
   "cell_type": "code",
   "execution_count": null,
   "metadata": {},
   "outputs": [],
   "source": []
  }
 ],
 "metadata": {
  "interpreter": {
   "hash": "8f52e72c7da3d38588779b7e0225782288049d1c57ba0ce139b57ffcecc10718"
  },
  "kernelspec": {
   "display_name": "Python 3.10.1 64-bit",
   "language": "python",
   "name": "python3"
  },
  "language_info": {
   "codemirror_mode": {
    "name": "ipython",
    "version": 3
   },
   "file_extension": ".py",
   "mimetype": "text/x-python",
   "name": "python",
   "nbconvert_exporter": "python",
   "pygments_lexer": "ipython3",
   "version": "3.10.1"
  },
  "orig_nbformat": 4
 },
 "nbformat": 4,
 "nbformat_minor": 2
}
