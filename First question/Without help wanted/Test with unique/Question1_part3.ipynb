{
 "cells": [
  {
   "cell_type": "code",
   "execution_count": 5,
   "metadata": {},
   "outputs": [
    {
     "name": "stdout",
     "output_type": "stream",
     "text": [
      "2019-12-29 23:14:15+00:00\n"
     ]
    }
   ],
   "source": [
    "#Autor: Alma\n",
    "import pandas as pd\n",
    "from datetime import datetime\n",
    "import time\n",
    "\n",
    "pd.set_option(\"expand_frame_repr\", False)\n",
    "df_gfi = pd.read_csv('./../gfi_coll.csv',usecols=['created_at','repository_url','url'])\n",
    "\n",
    "df_contri_rep= pd.read_csv('./../contri_rep.csv',usecols=['url'])\n",
    "df_all_rep= pd.read_csv('./../all_rep.csv',usecols=['stargazers_count','url'])\n",
    "df_gfi['created_at'] = pd.to_datetime(df_gfi['created_at'])\n",
    "\n",
    "\n",
    "df_gfi_exclued_years = df_gfi[(df_gfi['created_at'] >= '2010-1-1') & (df_gfi['created_at'] <= '2020-1-1')]\n",
    "print(df_gfi_exclued_years['created_at'].max())\n",
    "# print(df_contri_rep.shape)"
   ]
  },
  {
   "cell_type": "code",
   "execution_count": 6,
   "metadata": {},
   "outputs": [
    {
     "name": "stdout",
     "output_type": "stream",
     "text": [
      "(1144, 2)\n",
      "(1099, 2)\n"
     ]
    }
   ],
   "source": [
    "import numpy as np\n",
    "# first_issues_count = df_gfi.groupby('repository_url').agg(total_first = pd.NamedAgg('repository_url',aggfunc='count'))\n",
    "cont_detail = pd.merge(left=df_contri_rep,right=df_all_rep, how=\"inner\",left_on='url',right_on='url')\n",
    "cont_detail = cont_detail.reindex(sorted(cont_detail.columns), axis=1)\n",
    "unique_cont_df = cont_detail.drop_duplicates(subset=['url'], keep='first')\n",
    "print(cont_detail.shape)\n",
    "print(unique_cont_df.shape)"
   ]
  },
  {
   "cell_type": "code",
   "execution_count": 10,
   "metadata": {},
   "outputs": [
    {
     "name": "stdout",
     "output_type": "stream",
     "text": [
      "(1529, 3)\n",
      "(1531, 3)\n",
      "(174, 1)\n",
      "[0.3, 0.225, 0.225, 0.225, 0.15, 0.25, 0.175, 0.225, 0.2, 0.075, 0.2, 0.15, 0.125, 0.225, 0.15, 0.2, 0.275, 0.2, 0.2, 0.025, 0.05, 0.125, 0.025, 0.025, 0.05, 0.175, 0.075, 0.025]\n"
     ]
    }
   ],
   "source": [
    "# df_all_iss_unique = pd.DataFrame(df_gfi['repository_url'].unique(), columns=['url'])\n",
    "df_iss_id_unique = df_gfi_exclued_years.drop_duplicates(subset=['url'], keep='first')\n",
    "print(df_iss_id_unique.shape)\n",
    "print(df_gfi_exclued_years.shape)\n",
    "df_all_iss_unique = pd.DataFrame(df_gfi_exclued_years['repository_url'].unique(), columns=['url'])\n",
    "print(df_all_iss_unique.shape)\n",
    "ratio=[]\n",
    "\n",
    "for i, g  in unique_cont_df.groupby(np.arange(len(unique_cont_df)) // 40):\n",
    "    # print(g)\n",
    "    gfi_rep = pd.merge(left=g,right=df_all_iss_unique, how=\"inner\",left_on='url',right_on='url')    \n",
    "    # print(i,gfi_rep.shape[0]/40 )\n",
    "    if(i==16):\n",
    "        gr = g\n",
    "    ratio.append(gfi_rep.shape[0]/40)\n",
    "\n",
    "# gr.to_csv('outlier.txt', index=False) \n",
    "ratio = [i for i in ratio if i != 0]\n",
    "\n",
    "print(ratio)"
   ]
  },
  {
   "cell_type": "code",
   "execution_count": 11,
   "metadata": {},
   "outputs": [
    {
     "name": "stdout",
     "output_type": "stream",
     "text": [
      "28\n"
     ]
    },
    {
     "data": {
      "image/png": "[encoded data removed]",
      "text/plain": [
       "<Figure size 432x288 with 1 Axes>"
      ]
     },
     "metadata": {
      "needs_background": "light"
     },
     "output_type": "display_data"
    }
   ],
   "source": [
    "import matplotlib.pyplot as plt\n",
    "fig = plt.figure()\n",
    "ax = fig.add_axes([0,0,1,1])\n",
    "# langs = ['C', 'C++', 'Java', 'Python', 'PHP']\n",
    "# students = ratio[0:19]\n",
    "print(len(ratio))\n",
    "x= range(0,len(ratio))\n",
    "\n",
    "ax.bar(x,ratio)\n",
    "plt.show()\n"
   ]
  }
 ],
 "metadata": {
  "interpreter": {
   "hash": "8f52e72c7da3d38588779b7e0225782288049d1c57ba0ce139b57ffcecc10718"
  },
  "kernelspec": {
   "display_name": "Python 3.10.1 64-bit",
   "language": "python",
   "name": "python3"
  },
  "language_info": {
   "codemirror_mode": {
    "name": "ipython",
    "version": 3
   },
   "file_extension": ".py",
   "mimetype": "text/x-python",
   "name": "python",
   "nbconvert_exporter": "python",
   "pygments_lexer": "ipython3",
   "version": "3.10.1"
  },
  "orig_nbformat": 4
 },
 "nbformat": 4,
 "nbformat_minor": 2
}
