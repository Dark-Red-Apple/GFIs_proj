{
 "cells": [
  {
   "cell_type": "code",
   "execution_count": 6,
   "metadata": {},
   "outputs": [
    {
     "name": "stdout",
     "output_type": "stream",
     "text": [
      "                                                      url                                     repository_url                created_at\n",
      "309555  https://api.github.com/repos/phpmyadmin/phpmya...  https://api.github.com/repos/phpmyadmin/phpmya... 2005-12-15 19:29:31+00:00\n",
      "169564  https://api.github.com/repos/spring-projects/s...  https://api.github.com/repos/spring-projects/s... 2006-08-27 23:01:38+00:00\n",
      "169563  https://api.github.com/repos/spring-projects/s...  https://api.github.com/repos/spring-projects/s... 2007-03-28 01:14:42+00:00\n",
      "265805  https://api.github.com/repos/sympy/sympy/issue...           https://api.github.com/repos/sympy/sympy 2007-06-17 02:59:23+00:00\n",
      "169562  https://api.github.com/repos/spring-projects/s...  https://api.github.com/repos/spring-projects/s... 2007-07-20 10:44:36+00:00\n",
      "169561  https://api.github.com/repos/spring-projects/s...  https://api.github.com/repos/spring-projects/s... 2007-09-04 10:25:27+00:00\n",
      "265804  https://api.github.com/repos/sympy/sympy/issue...           https://api.github.com/repos/sympy/sympy 2007-09-10 11:07:27+00:00\n",
      "265803  https://api.github.com/repos/sympy/sympy/issue...           https://api.github.com/repos/sympy/sympy 2007-09-12 08:58:18+00:00\n",
      "265802  https://api.github.com/repos/sympy/sympy/issue...           https://api.github.com/repos/sympy/sympy 2007-09-15 21:04:19+00:00\n",
      "265801  https://api.github.com/repos/sympy/sympy/issue...           https://api.github.com/repos/sympy/sympy 2007-09-25 01:30:44+00:00\n",
      "265800  https://api.github.com/repos/sympy/sympy/issue...           https://api.github.com/repos/sympy/sympy 2007-09-25 08:27:08+00:00\n",
      "265799  https://api.github.com/repos/sympy/sympy/issue...           https://api.github.com/repos/sympy/sympy 2007-10-08 09:32:26+00:00\n",
      "265798  https://api.github.com/repos/sympy/sympy/issue...           https://api.github.com/repos/sympy/sympy 2007-11-27 10:45:48+00:00\n",
      "265797  https://api.github.com/repos/sympy/sympy/issue...           https://api.github.com/repos/sympy/sympy 2007-12-12 05:06:59+00:00\n",
      "265796  https://api.github.com/repos/sympy/sympy/issue...           https://api.github.com/repos/sympy/sympy 2007-12-24 00:04:28+00:00\n",
      "265795  https://api.github.com/repos/sympy/sympy/issue...           https://api.github.com/repos/sympy/sympy 2007-12-27 06:43:30+00:00\n",
      "299266  https://api.github.com/repos/matomo-org/matomo...     https://api.github.com/repos/matomo-org/matomo 2008-01-03 23:27:47+00:00\n",
      "169560  https://api.github.com/repos/spring-projects/s...  https://api.github.com/repos/spring-projects/s... 2008-01-07 04:26:00+00:00\n",
      "265794  https://api.github.com/repos/sympy/sympy/issue...           https://api.github.com/repos/sympy/sympy 2008-01-07 12:46:08+00:00\n",
      "299265  https://api.github.com/repos/matomo-org/matomo...     https://api.github.com/repos/matomo-org/matomo 2008-01-10 16:58:45+00:00\n"
     ]
    }
   ],
   "source": [
    "#Autor: Alma\n",
    "import pandas as pd\n",
    "from datetime import datetime\n",
    "import time\n",
    "\n",
    "pd.set_option(\"expand_frame_repr\", False)\n",
    "df_gfi = pd.read_csv('./../gfi_coll.csv',usecols=['created_at','repository_url','url'])\n",
    "df_other_iss= pd.read_csv('./../otheri_coll.csv',usecols=['created_at','repository_url'])\n",
    "df_all_iss= pd.read_csv('./../all_issues_fin.csv',usecols=['created_at','repository_url','url'])\n",
    "df_gfi['created_at'] = pd.to_datetime(df_gfi['created_at'])\n",
    "df_other_iss['created_at'] = pd.to_datetime(df_other_iss['created_at'])\n",
    "df_all_iss['created_at'] = pd.to_datetime(df_all_iss['created_at'])\n",
    "print(df_all_iss.sort_values(by=['created_at']).head(20))"
   ]
  },
  {
   "cell_type": "code",
   "execution_count": 7,
   "metadata": {},
   "outputs": [
    {
     "name": "stdout",
     "output_type": "stream",
     "text": [
      "(3634, 3)\n",
      "(3631, 3)\n",
      "(323403, 3)\n",
      "(319987, 3)\n"
     ]
    }
   ],
   "source": [
    "print(df_gfi.shape)\n",
    "unique_gfi_df = df_gfi.drop_duplicates(subset=['url'], keep='first')\n",
    "print(unique_gfi_df.shape)\n",
    "print(df_all_iss.shape)\n",
    "unique_all_iss_df = df_all_iss.drop_duplicates(subset=['url'], keep='first')\n",
    "print(unique_all_iss_df.shape)"
   ]
  },
  {
   "cell_type": "code",
   "execution_count": 12,
   "metadata": {},
   "outputs": [
    {
     "name": "stdout",
     "output_type": "stream",
     "text": [
      "            total created_at\n",
      "created_at                  \n",
      "2008            1 2008-01-01\n",
      "2009            1 2009-01-01\n",
      "2010            1 2010-01-01\n",
      "2011            3 2011-01-01\n",
      "2012            5 2012-01-01\n",
      "2013            9 2013-01-01\n",
      "2014           21 2014-01-01\n",
      "2015           39 2015-01-01\n",
      "2016           48 2016-01-01\n",
      "2017           72 2017-01-01\n",
      "2018          103 2018-01-01\n",
      "2019          126 2019-01-01\n",
      "2020          167 2020-01-01\n",
      "2021          158 2021-01-01\n",
      "2022          101 2022-01-01\n"
     ]
    }
   ],
   "source": [
    "# first_issues_count = df_gfi.groupby([df_gfi['created_at'].dt.year,'repository_url'], as_index=False).count()\n",
    "# first_issues_count = df_gfi.groupby(df_gfi['created_at'].dt.year, as_index=False)[\"repository_url\"].nunique()\n",
    "# print(first_issues_count)\n",
    "first_issues_count = unique_gfi_df.groupby(unique_gfi_df['created_at'].dt.year).agg(total = pd.NamedAgg('repository_url',aggfunc=pd.Series.nunique))\n",
    "first_issues_count['created_at']= first_issues_count.index\n",
    "first_issues_count['created_at'] = pd.to_datetime(first_issues_count['created_at'], format='%Y')\n",
    "print(first_issues_count)"
   ]
  },
  {
   "cell_type": "code",
   "execution_count": 8,
   "metadata": {},
   "outputs": [
    {
     "name": "stdout",
     "output_type": "stream",
     "text": [
      "<pandas.core.groupby.generic.DataFrameGroupBy object at 0x0000016E3EC01D50>\n",
      "            total created_at\n",
      "created_at                  \n",
      "2005            1 2005-01-01\n",
      "2006            1 2006-01-01\n",
      "2007            2 2007-01-01\n",
      "2008            3 2008-01-01\n",
      "2009            8 2009-01-01\n",
      "2010           22 2010-01-01\n",
      "2011           55 2011-01-01\n",
      "2012          114 2012-01-01\n",
      "2013          201 2013-01-01\n",
      "2014          318 2014-01-01\n",
      "2015          462 2015-01-01\n",
      "2016          579 2016-01-01\n",
      "2017          683 2017-01-01\n",
      "2018          790 2018-01-01\n",
      "2019          867 2019-01-01\n",
      "2020          930 2020-01-01\n",
      "2021          970 2021-01-01\n",
      "2022          890 2022-01-01\n"
     ]
    }
   ],
   "source": [
    "# first_issues_count_2 = df_gfi.groupby(df_gfi['created_at'].dt.year, as_index=False)[\"repository_url\"]\n",
    "# print(first_issues_count_2)\n",
    "# print(df_all_iss.columns)'\n",
    "# print(df_all_iss)\n",
    "gr = unique_all_iss_df.groupby(unique_all_iss_df['created_at'].dt.year)\n",
    "print(gr)\n",
    "all_issues_count = unique_all_iss_df.groupby(unique_all_iss_df['created_at'].dt.year).agg(total = pd.NamedAgg('repository_url',aggfunc=pd.Series.nunique))\n",
    "# url_unique = df_gfis['repository_url'].unique()\n",
    "all_issues_count['created_at']= all_issues_count.index\n",
    "all_issues_count['created_at'] = pd.to_datetime(all_issues_count['created_at'], format='%Y')\n",
    "print(all_issues_count)\n"
   ]
  },
  {
   "cell_type": "code",
   "execution_count": 9,
   "metadata": {},
   "outputs": [],
   "source": [
    "all_issues_count.drop(all_issues_count.head(3).index,inplace=True)"
   ]
  },
  {
   "cell_type": "code",
   "execution_count": 10,
   "metadata": {},
   "outputs": [
    {
     "name": "stdout",
     "output_type": "stream",
     "text": [
      "            total created_at\n",
      "created_at                  \n",
      "2008            3 2008-01-01\n",
      "2009            8 2009-01-01\n",
      "2010           22 2010-01-01\n",
      "2011           55 2011-01-01\n",
      "2012          114 2012-01-01\n",
      "2013          201 2013-01-01\n",
      "2014          318 2014-01-01\n",
      "2015          462 2015-01-01\n",
      "2016          579 2016-01-01\n",
      "2017          683 2017-01-01\n",
      "2018          790 2018-01-01\n",
      "2019          867 2019-01-01\n",
      "2020          930 2020-01-01\n",
      "2021          970 2021-01-01\n",
      "2022          890 2022-01-01\n"
     ]
    }
   ],
   "source": [
    "print(all_issues_count)"
   ]
  },
  {
   "cell_type": "code",
   "execution_count": 13,
   "metadata": {},
   "outputs": [
    {
     "name": "stdout",
     "output_type": "stream",
     "text": [
      "           created_at  ratio\n",
      "created_at                  \n",
      "2010       2010-01-01   45.0\n",
      "2011       2011-01-01   55.0\n",
      "2012       2012-01-01   44.0\n",
      "2013       2013-01-01   45.0\n",
      "2014       2014-01-01   66.0\n",
      "2015       2015-01-01   84.0\n",
      "2016       2016-01-01   83.0\n",
      "2017       2017-01-01  105.0\n",
      "2018       2018-01-01  130.0\n",
      "2019       2019-01-01  145.0\n",
      "2020       2020-01-01  180.0\n",
      "2021       2021-01-01  163.0\n",
      "2022       2022-01-01  113.0\n"
     ]
    }
   ],
   "source": [
    "first_iss_cut = first_issues_count.tail(13)\n",
    "all_iss_cut = all_issues_count.tail(13)\n",
    "# print(first_iss_cut)\n",
    "# print(all_iss_cut)\n",
    "data={'created_at': first_iss_cut[\"created_at\"],'ratio': ((first_iss_cut[\"total\"].div(all_iss_cut[\"total\"]))*1000).round()}\n",
    "df_ratio = pd.DataFrame(data)  \n",
    "# df_ratio = (first_iss_cut[\"total\"].div(all_iss_cut[\"total\"]))*1000\n",
    "# ratio['created_at']= ratio.index\n",
    "# ratio['created_at'] = pd.to_datetime(ratio['created_at'], format='%Y')\n",
    "print(df_ratio)"
   ]
  },
  {
   "cell_type": "code",
   "execution_count": 14,
   "metadata": {},
   "outputs": [],
   "source": [
    "first_issue_cute_top2 = first_issues_count.head(13)\n",
    "df_ratio_cutted = df_ratio.head(11)"
   ]
  },
  {
   "cell_type": "code",
   "execution_count": 15,
   "metadata": {},
   "outputs": [
    {
     "data": {
      "image/png": "[encoded data removed]",
      "text/plain": [
       "<Figure size 720x288 with 1 Axes>"
      ]
     },
     "metadata": {
      "needs_background": "light"
     },
     "output_type": "display_data"
    }
   ],
   "source": [
    "import numpy as np\n",
    "import pandas as pd\n",
    "import matplotlib.pyplot as plt\n",
    "from matplotlib.ticker import StrMethodFormatter\n",
    "from matplotlib.ticker import PercentFormatter\n",
    "\n",
    "import matplotlib.dates as mdates\n",
    "import numpy\n",
    "fig, ax = plt.subplots(figsize=(10, 4))\n",
    "# plt.xticks(first_issues_count['created_at']) \n",
    "# plt.yticks(first_issues_count['created_at'])\n",
    "# ax = fig.add_subplot(111)\n",
    "# xs = np.logspace(1,10,10)\n",
    "# ax.set_yscale('log')\n",
    "\n",
    "plt.plot_date(first_issue_cute_top2['created_at'].tail(11), first_issue_cute_top2['total'].tail(11),linestyle='solid',label='Number of the projects')\n",
    "plt.plot_date(df_ratio_cutted['created_at'], df_ratio_cutted['ratio'],linestyle='solid',label='1000* ratio of the projects')\n",
    "\n",
    "plt.legend()\n",
    "plt.ylabel(\"number\",fontsize=10)\n",
    "plt.xlabel(\"year\",fontsize=10)\n",
    "plt.show()\n",
    "\n"
   ]
  },
  {
   "cell_type": "code",
   "execution_count": null,
   "metadata": {},
   "outputs": [],
   "source": []
  }
 ],
 "metadata": {
  "interpreter": {
   "hash": "8f52e72c7da3d38588779b7e0225782288049d1c57ba0ce139b57ffcecc10718"
  },
  "kernelspec": {
   "display_name": "Python 3.10.1 64-bit",
   "language": "python",
   "name": "python3"
  },
  "language_info": {
   "codemirror_mode": {
    "name": "ipython",
    "version": 3
   },
   "file_extension": ".py",
   "mimetype": "text/x-python",
   "name": "python",
   "nbconvert_exporter": "python",
   "pygments_lexer": "ipython3",
   "version": "3.10.1"
  },
  "orig_nbformat": 4
 },
 "nbformat": 4,
 "nbformat_minor": 2
}
