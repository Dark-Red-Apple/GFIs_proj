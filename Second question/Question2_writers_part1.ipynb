{
 "cells": [
  {
   "cell_type": "code",
   "execution_count": 1,
   "metadata": {},
   "outputs": [
    {
     "name": "stdout",
     "output_type": "stream",
     "text": [
      "Index(['id', '#Days_Resolution', '#Actors_Subscription', '#Developers_Mention',\n",
      "       '#Times_Reference', '#Developers_Comment', '#Comments', 'Type'],\n",
      "      dtype='object')\n"
     ]
    }
   ],
   "source": [
    "#Autor: Alma\n",
    "import pandas as pd\n",
    "from datetime import datetime\n",
    "import time\n",
    "\n",
    "pd.set_option(\"expand_frame_repr\", False)\n",
    "df_char = pd.read_csv('D:\\Courses Uni\\Special Topis in SE\\Project\\Codes\\writers dataset\\issue_character.csv')\n",
    "# df_other_iss= pd.read_csv('other_issues.csv',usecols=['created_at','repository_url'])\n",
    "# df_gfi['created_at'] = pd.to_datetime(df_gfi['created_at'])\n",
    "print(df_char.columns)"
   ]
  },
  {
   "cell_type": "code",
   "execution_count": 2,
   "metadata": {},
   "outputs": [
    {
     "name": "stdout",
     "output_type": "stream",
     "text": [
      "2932\n",
      "9110\n"
     ]
    }
   ],
   "source": [
    "\n",
    "gfi_char = df_char[df_char['Type']=='GFI']\n",
    "oi_char = df_char[df_char['Type']=='Other Issues']\n",
    "print(gfi_char['#Days_Resolution'].max()) \n",
    "print(oi_char['#Days_Resolution'].count()) \n"
   ]
  },
  {
   "cell_type": "code",
   "execution_count": 9,
   "metadata": {},
   "outputs": [
    {
     "data": {
      "text/plain": [
       "<AxesSubplot:xlabel='Type', ylabel='#Comments'>"
      ]
     },
     "execution_count": 9,
     "metadata": {},
     "output_type": "execute_result"
    },
    {
     "data": {
      "image/png": "[encoded data removed]",
      "text/plain": [
       "<Figure size 432x288 with 1 Axes>"
      ]
     },
     "metadata": {
      "needs_background": "light"
     },
     "output_type": "display_data"
    }
   ],
   "source": [
    "import numpy as np; np.random.seed(42)\n",
    "import matplotlib.pyplot as plt\n",
    "import seaborn as sns\n",
    "f, ax = plt.subplots()\n",
    "\n",
    "#uncomment each\n",
    "# sns.boxplot(x = 'Type', y = '#Days_Resolution', data=df_char,ax=ax,showfliers=False)\n",
    "# sns.boxplot(x = 'Type', y = '#Actors_Subscription', data=df_char,ax=ax,showfliers=False)\n",
    "# sns.boxplot(x = 'Type', y = '#Developers_Mention', data=df_char,ax=ax,showfliers=False)\n",
    "# sns.boxplot(x = 'Type', y = '#Times_Reference', data=df_char,ax=ax,showfliers=False)\n",
    "# sns.boxplot(x = 'Type', y = '#Developers_Comment', data=df_char,ax=ax,showfliers=False)\n",
    "sns.boxplot(x = 'Type', y = '#Comments', data=df_char,ax=ax,showfliers=False)\n"
   ]
  },
  {
   "cell_type": "code",
   "execution_count": null,
   "metadata": {},
   "outputs": [],
   "source": []
  }
 ],
 "metadata": {
  "interpreter": {
   "hash": "8f52e72c7da3d38588779b7e0225782288049d1c57ba0ce139b57ffcecc10718"
  },
  "kernelspec": {
   "display_name": "Python 3.10.1 64-bit",
   "language": "python",
   "name": "python3"
  },
  "language_info": {
   "codemirror_mode": {
    "name": "ipython",
    "version": 3
   },
   "file_extension": ".py",
   "mimetype": "text/x-python",
   "name": "python",
   "nbconvert_exporter": "python",
   "pygments_lexer": "ipython3",
   "version": "3.10.1"
  },
  "orig_nbformat": 4
 },
 "nbformat": 4,
 "nbformat_minor": 2
}
